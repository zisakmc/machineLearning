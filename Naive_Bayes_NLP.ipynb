{
  "nbformat": 4,
  "nbformat_minor": 0,
  "metadata": {
    "colab": {
      "provenance": [],
      "gpuType": "T4"
    },
    "kernelspec": {
      "name": "python3",
      "display_name": "Python 3"
    },
    "language_info": {
      "name": "python"
    },
    "accelerator": "GPU"
  },
  "cells": [
    {
      "cell_type": "markdown",
      "source": [
        "# NLP with Naive Bayes\n"
      ],
      "metadata": {
        "id": "morkC011o6v7"
      }
    },
    {
      "cell_type": "code",
      "execution_count": null,
      "metadata": {
        "colab": {
          "base_uri": "https://localhost:8080/"
        },
        "id": "LHtSKnA3owU7",
        "outputId": "00450364-301d-45f7-f54d-b6e521a1848f"
      },
      "outputs": [
        {
          "output_type": "stream",
          "name": "stdout",
          "text": [
            "Populating the interactive namespace from numpy and matplotlib\n"
          ]
        }
      ],
      "source": [
        "pylab inline"
      ]
    },
    {
      "cell_type": "code",
      "source": [
        "from sklearn.datasets import fetch_20newsgroups"
      ],
      "metadata": {
        "id": "lg8f8TNhpYaV"
      },
      "execution_count": null,
      "outputs": []
    },
    {
      "cell_type": "code",
      "source": [
        "news = fetch_20newsgroups(subset='all')"
      ],
      "metadata": {
        "id": "ihSj-MJbpoZq"
      },
      "execution_count": null,
      "outputs": []
    },
    {
      "cell_type": "code",
      "source": [
        "print(news.data)"
      ],
      "metadata": {
        "colab": {
          "base_uri": "https://localhost:8080/"
        },
        "id": "YKJWJtLGpvw6",
        "outputId": "7b30b3a8-4604-4688-8c45-6e20e596bf94"
      },
      "execution_count": null,
      "outputs": [
        {
          "output_type": "stream",
          "name": "stderr",
          "text": [
            "IOPub data rate exceeded.\n",
            "The notebook server will temporarily stop sending output\n",
            "to the client in order to avoid crashing it.\n",
            "To change this limit, set the config variable\n",
            "`--NotebookApp.iopub_data_rate_limit`.\n",
            "\n",
            "Current values:\n",
            "NotebookApp.iopub_data_rate_limit=1000000.0 (bytes/sec)\n",
            "NotebookApp.rate_limit_window=3.0 (secs)\n",
            "\n"
          ]
        }
      ]
    },
    {
      "cell_type": "code",
      "source": [
        "print(type(news.data))"
      ],
      "metadata": {
        "colab": {
          "base_uri": "https://localhost:8080/"
        },
        "id": "Ffyy16Gsp4dj",
        "outputId": "da408241-08c2-4108-c50a-1c157a60a57a"
      },
      "execution_count": null,
      "outputs": [
        {
          "output_type": "stream",
          "name": "stdout",
          "text": [
            "<class 'list'>\n"
          ]
        }
      ]
    },
    {
      "cell_type": "code",
      "source": [
        "print(type(news.target), type(news.target_names))"
      ],
      "metadata": {
        "colab": {
          "base_uri": "https://localhost:8080/"
        },
        "id": "Voh5r2BpqADt",
        "outputId": "91f1359a-7131-49b8-f893-f2e3050fa9de"
      },
      "execution_count": null,
      "outputs": [
        {
          "output_type": "stream",
          "name": "stdout",
          "text": [
            "<class 'numpy.ndarray'> <class 'list'>\n"
          ]
        }
      ]
    },
    {
      "cell_type": "code",
      "source": [
        "print(news.target_names)"
      ],
      "metadata": {
        "colab": {
          "base_uri": "https://localhost:8080/"
        },
        "id": "cO2_CpN9qJ2S",
        "outputId": "62cf4ab1-5056-489d-e7bb-8a2ee060d617"
      },
      "execution_count": null,
      "outputs": [
        {
          "output_type": "stream",
          "name": "stdout",
          "text": [
            "['alt.atheism', 'comp.graphics', 'comp.os.ms-windows.misc', 'comp.sys.ibm.pc.hardware', 'comp.sys.mac.hardware', 'comp.windows.x', 'misc.forsale', 'rec.autos', 'rec.motorcycles', 'rec.sport.baseball', 'rec.sport.hockey', 'sci.crypt', 'sci.electronics', 'sci.med', 'sci.space', 'soc.religion.christian', 'talk.politics.guns', 'talk.politics.mideast', 'talk.politics.misc', 'talk.religion.misc']\n"
          ]
        }
      ]
    },
    {
      "cell_type": "code",
      "source": [
        "print(len(news.data))"
      ],
      "metadata": {
        "colab": {
          "base_uri": "https://localhost:8080/"
        },
        "id": "5m9devUHqQ4F",
        "outputId": "775e7c9e-8788-497b-e426-d17a8e1f7b68"
      },
      "execution_count": null,
      "outputs": [
        {
          "output_type": "stream",
          "name": "stdout",
          "text": [
            "18846\n"
          ]
        }
      ]
    },
    {
      "cell_type": "code",
      "source": [
        "print(len(news.target))"
      ],
      "metadata": {
        "colab": {
          "base_uri": "https://localhost:8080/"
        },
        "id": "DMQ3SNxOqYB0",
        "outputId": "b551ffe3-7636-4997-a320-b4f9a7c00aff"
      },
      "execution_count": null,
      "outputs": [
        {
          "output_type": "stream",
          "name": "stdout",
          "text": [
            "18846\n"
          ]
        }
      ]
    },
    {
      "cell_type": "code",
      "source": [
        "print(news.data[0])"
      ],
      "metadata": {
        "colab": {
          "base_uri": "https://localhost:8080/"
        },
        "id": "W7gYYREfqdjR",
        "outputId": "62f310bc-9fca-4778-8bd7-9e6a83ce3a4c"
      },
      "execution_count": null,
      "outputs": [
        {
          "output_type": "stream",
          "name": "stdout",
          "text": [
            "From: Mamatha Devineni Ratnam <mr47+@andrew.cmu.edu>\n",
            "Subject: Pens fans reactions\n",
            "Organization: Post Office, Carnegie Mellon, Pittsburgh, PA\n",
            "Lines: 12\n",
            "NNTP-Posting-Host: po4.andrew.cmu.edu\n",
            "\n",
            "\n",
            "\n",
            "I am sure some bashers of Pens fans are pretty confused about the lack\n",
            "of any kind of posts about the recent Pens massacre of the Devils. Actually,\n",
            "I am  bit puzzled too and a bit relieved. However, I am going to put an end\n",
            "to non-PIttsburghers' relief with a bit of praise for the Pens. Man, they\n",
            "are killing those Devils worse than I thought. Jagr just showed you why\n",
            "he is much better than his regular season stats. He is also a lot\n",
            "fo fun to watch in the playoffs. Bowman should let JAgr have a lot of\n",
            "fun in the next couple of games since the Pens are going to beat the pulp out of Jersey anyway. I was very disappointed not to see the Islanders lose the final\n",
            "regular season game.          PENS RULE!!!\n",
            "\n",
            "\n"
          ]
        }
      ]
    },
    {
      "cell_type": "code",
      "source": [
        "print(news.target[0], news.target_names[0])"
      ],
      "metadata": {
        "colab": {
          "base_uri": "https://localhost:8080/"
        },
        "id": "Atb83yNEqlcR",
        "outputId": "7a42dcf8-4d6d-47dd-d268-8244fc1d6d14"
      },
      "execution_count": null,
      "outputs": [
        {
          "output_type": "stream",
          "name": "stdout",
          "text": [
            "10 alt.atheism\n"
          ]
        }
      ]
    },
    {
      "cell_type": "code",
      "source": [
        "split_perc = 0.75\n",
        "split_size = int(len(news.data) * split_perc)\n",
        "x_train = news.data[:split_size]\n",
        "x_test= news.data[split_size:]\n",
        "y_train = news.data[:split_size]\n",
        "y_test= news.data[split_size:]"
      ],
      "metadata": {
        "id": "Lf2aEFY6q4zG"
      },
      "execution_count": null,
      "outputs": []
    },
    {
      "cell_type": "code",
      "source": [
        "\n",
        "from sklearn.naive_bayes import MultinomialNB\n",
        "from sklearn.pipeline import Pipeline\n",
        "from sklearn.feature_extraction.text import TfidfVectorizer, HashingVectorizer, CountVectorizer\n",
        "\n"
      ],
      "metadata": {
        "id": "7R3zHil9tWSA"
      },
      "execution_count": null,
      "outputs": []
    },
    {
      "cell_type": "code",
      "source": [
        "clf_1 = Pipeline([\n",
        "    ('vect', CountVectorizer()),\n",
        "    ('clf', MultinomialNB()),\n",
        "])"
      ],
      "metadata": {
        "id": "i-QMgzlWuVh6"
      },
      "execution_count": null,
      "outputs": []
    },
    {
      "cell_type": "code",
      "source": [
        "clf_2 = Pipeline([\n",
        "    ('vect', HashingVectorizer(alternate_sign=False)),\n",
        "    ('clf', MultinomialNB()),\n",
        "])"
      ],
      "metadata": {
        "id": "cE4DDqq1uoD3"
      },
      "execution_count": null,
      "outputs": []
    },
    {
      "cell_type": "code",
      "source": [
        "clf_3 = Pipeline([\n",
        "    ('vect', TfidfVectorizer()),\n",
        "    ('clf', MultinomialNB()),\n",
        "])"
      ],
      "metadata": {
        "id": "Wgm_aT2OvCue"
      },
      "execution_count": null,
      "outputs": []
    },
    {
      "cell_type": "code",
      "source": [
        "from sklearn.model_selection import cross_val_score, KFold\n",
        "from scipy.stats import sem"
      ],
      "metadata": {
        "id": "Ud7aaJ5HvNGS"
      },
      "execution_count": null,
      "outputs": []
    },
    {
      "cell_type": "code",
      "source": [
        "import numpy as np\n",
        "def eval_cross_val(clf, x, y, k):\n",
        "    cv = KFold(k, shuffle=True, random_state=0)\n",
        "    scores = cross_val_score(clf, x, y, cv = cv)\n",
        "    print (scores)\n",
        "    return (\"Mean scores: {0:.3f} ( +/- {1: .3f})\").format(np.mean(scores), sem(scores))"
      ],
      "metadata": {
        "id": "19O4ILpYvduk"
      },
      "execution_count": null,
      "outputs": []
    },
    {
      "cell_type": "code",
      "source": [
        "clfs = [ clf_1, clf_2, clf_3 ]\n",
        "for clf in clfs:\n",
        "    print(eval_cross_val(clf, news.data, news.target, 5))"
      ],
      "metadata": {
        "colab": {
          "base_uri": "https://localhost:8080/"
        },
        "id": "5L4lvUk0waGL",
        "outputId": "ef7a1a02-81dc-4e4c-f18b-3588137488e6"
      },
      "execution_count": null,
      "outputs": [
        {
          "output_type": "stream",
          "name": "stdout",
          "text": [
            "[0.85782493 0.85725657 0.84664367 0.85911382 0.8458477 ]\n",
            "Mean scores: 0.853 ( +/-  0.003)\n",
            "[0.75517241 0.77659857 0.77076148 0.78508888 0.76200584]\n",
            "Mean scores: 0.770 ( +/-  0.005)\n",
            "[0.84482759 0.85990979 0.84558238 0.85990979 0.84213319]\n",
            "Mean scores: 0.850 ( +/-  0.004)\n"
          ]
        }
      ]
    },
    {
      "cell_type": "code",
      "source": [
        "clf_4 = Pipeline([\n",
        "    ('vect', TfidfVectorizer(\n",
        "        token_pattern=r\"\\b[a-z0-9_\\-\\.]+[a-z][a-z0->>> 9_\\-\\.]+\\b\",\n",
        "    )),\n",
        "    ('clf', MultinomialNB())\n",
        "])"
      ],
      "metadata": {
        "id": "0ZMsAbuuwyFp"
      },
      "execution_count": null,
      "outputs": []
    },
    {
      "cell_type": "code",
      "source": [
        "print(eval_cross_val(clf_4, news.data, news.target, 5))"
      ],
      "metadata": {
        "colab": {
          "base_uri": "https://localhost:8080/"
        },
        "id": "CjvCPpeb0w10",
        "outputId": "7b38f638-6faf-4ccc-c13c-2f8de20ca772"
      },
      "execution_count": null,
      "outputs": [
        {
          "output_type": "stream",
          "name": "stdout",
          "text": [
            "[0.80450928 0.81029451 0.8113558  0.82143805 0.80817193]\n",
            "Mean scores: 0.811 ( +/-  0.003)\n"
          ]
        }
      ]
    },
    {
      "cell_type": "code",
      "source": [
        "!touch stopwords_en.txt\n"
      ],
      "metadata": {
        "id": "U1C6bbcU5icS"
      },
      "execution_count": null,
      "outputs": []
    },
    {
      "cell_type": "code",
      "source": [
        "!echo \"about,above,across,after,again,against,all,almost,alone,along,already,also,although,always,among,an,and,another,any,anybody,anyone,anything,anywhere,are,area,areas,around,as,ask,asked,asking,asks,at,away,b,back,backed,backing,backs,be,became,because,become,becomes,been,before,began,behind,being,beings,best,better,between,big,both,but,by,c,came,can,cannot,case,cases,certain,certainly,clear,clearly,come,could,d,did,differ,different,differently,do,does,done,down,down,downed,downing,downs,during,e,each,early,either,end,ended,ending,ends,enough,even,evenly,ever,every,everybody,everyone,everything,everywhere,f,face,faces,fact,facts,far,felt,few,find,finds,first,for,four,from,full,fully,further,furthered,furthering,furthers,g,gave,general,generally,get,gets,give,given,gives,go,going,good,goods,got,great,greater,greatest,group,grouped,grouping,groups,h,had,has,have,having,he,her,here,herself,high,high,high,higher,highest,him,himself,his,how,however,i,if,important,in,interest,interested,interesting,interests,into,is,it,its,itself,j,just,k,keep,keeps,kind,knew,know,known,knows,l,large,largely,last,later,latest,least,less,let,lets,like,likely,long,longer,longest,m,made,make,making,man,many,may,me,member,members,men,might,more,most,mostly,mr,mrs,much,must,my,myself,n,necessary,need,needed,needing,needs,never,new,new,newer,newest,next,no,nobody,non,noone,not,nothing,now,nowhere,number,numbers,o,of,off,often,old,older,oldest,on,once,one,only,open,opened,opening,opens,or,order,ordered,ordering,orders,other,others,our,out,over,p,part,parted,parting,parts,per,perhaps,place,places,point,pointed,pointing,points,possible,present,presented,presenting,presents,problem,problems,put,puts,q,quite,r,rather,really,right,right,room,rooms,s,said,same,saw,say,says,second,seconds,see,seem,seemed,seeming,seems,sees,several,shall,she,should,show,showed,showing,shows,side,sides,since,small,smaller,smallest,so,some,somebody,someone,something,somewhere,state,states,still,still,such,sure,t,take,taken,than,that,the,their,them,then,there,therefore,these,they,thing,things,think,thinks,this,those,though,thought,thoughts,three,through,thus,to,today,together,too,took,toward,turn,turned,turning,turns,two,u,under,until,up,upon,us,use,used,uses,v,very,w,want,wanted,wanting,wants,was,way,ways,we,well,wells,went,were,what,when,where,whether,which,while,who,whole,whose,why,will,with,within,without,work,worked,working,works,would,x,y,year,years,yet,you,young,younger,youngest,your,yours,z\" > stopwords_en.txt"
      ],
      "metadata": {
        "id": "sfKMcCdd66wY"
      },
      "execution_count": null,
      "outputs": []
    },
    {
      "cell_type": "code",
      "source": [
        "!cat stopwords_en.txt"
      ],
      "metadata": {
        "colab": {
          "base_uri": "https://localhost:8080/"
        },
        "id": "ZVYI00rH8MXG",
        "outputId": "145109c6-e2b2-4812-cec1-9fb72ed31f18"
      },
      "execution_count": null,
      "outputs": [
        {
          "output_type": "stream",
          "name": "stdout",
          "text": [
            "about,above,across,after,again,against,all,almost,alone,along,already,also,although,always,among,an,and,another,any,anybody,anyone,anything,anywhere,are,area,areas,around,as,ask,asked,asking,asks,at,away,b,back,backed,backing,backs,be,became,because,become,becomes,been,before,began,behind,being,beings,best,better,between,big,both,but,by,c,came,can,cannot,case,cases,certain,certainly,clear,clearly,come,could,d,did,differ,different,differently,do,does,done,down,down,downed,downing,downs,during,e,each,early,either,end,ended,ending,ends,enough,even,evenly,ever,every,everybody,everyone,everything,everywhere,f,face,faces,fact,facts,far,felt,few,find,finds,first,for,four,from,full,fully,further,furthered,furthering,furthers,g,gave,general,generally,get,gets,give,given,gives,go,going,good,goods,got,great,greater,greatest,group,grouped,grouping,groups,h,had,has,have,having,he,her,here,herself,high,high,high,higher,highest,him,himself,his,how,however,i,if,important,in,interest,interested,interesting,interests,into,is,it,its,itself,j,just,k,keep,keeps,kind,knew,know,known,knows,l,large,largely,last,later,latest,least,less,let,lets,like,likely,long,longer,longest,m,made,make,making,man,many,may,me,member,members,men,might,more,most,mostly,mr,mrs,much,must,my,myself,n,necessary,need,needed,needing,needs,never,new,new,newer,newest,next,no,nobody,non,noone,not,nothing,now,nowhere,number,numbers,o,of,off,often,old,older,oldest,on,once,one,only,open,opened,opening,opens,or,order,ordered,ordering,orders,other,others,our,out,over,p,part,parted,parting,parts,per,perhaps,place,places,point,pointed,pointing,points,possible,present,presented,presenting,presents,problem,problems,put,puts,q,quite,r,rather,really,right,right,room,rooms,s,said,same,saw,say,says,second,seconds,see,seem,seemed,seeming,seems,sees,several,shall,she,should,show,showed,showing,shows,side,sides,since,small,smaller,smallest,so,some,somebody,someone,something,somewhere,state,states,still,still,such,sure,t,take,taken,than,that,the,their,them,then,there,therefore,these,they,thing,things,think,thinks,this,those,though,thought,thoughts,three,through,thus,to,today,together,too,took,toward,turn,turned,turning,turns,two,u,under,until,up,upon,us,use,used,uses,v,very,w,want,wanted,wanting,wants,was,way,ways,we,well,wells,went,were,what,when,where,whether,which,while,who,whole,whose,why,will,with,within,without,work,worked,working,works,would,x,y,year,years,yet,you,young,younger,youngest,your,yours,z\n"
          ]
        }
      ]
    },
    {
      "cell_type": "code",
      "source": [
        "!sed -e's/,/\\n/g' -i stopwords_en.txt"
      ],
      "metadata": {
        "id": "Kma1ejRy8UHf"
      },
      "execution_count": null,
      "outputs": []
    },
    {
      "cell_type": "code",
      "source": [
        "!cat stopwords_en.txt"
      ],
      "metadata": {
        "colab": {
          "base_uri": "https://localhost:8080/"
        },
        "id": "745IjHxL8mfz",
        "outputId": "bedb74dc-d4db-44a3-dc74-1600fd245471"
      },
      "execution_count": null,
      "outputs": [
        {
          "output_type": "stream",
          "name": "stdout",
          "text": [
            "about\n",
            "above\n",
            "across\n",
            "after\n",
            "again\n",
            "against\n",
            "all\n",
            "almost\n",
            "alone\n",
            "along\n",
            "already\n",
            "also\n",
            "although\n",
            "always\n",
            "among\n",
            "an\n",
            "and\n",
            "another\n",
            "any\n",
            "anybody\n",
            "anyone\n",
            "anything\n",
            "anywhere\n",
            "are\n",
            "area\n",
            "areas\n",
            "around\n",
            "as\n",
            "ask\n",
            "asked\n",
            "asking\n",
            "asks\n",
            "at\n",
            "away\n",
            "b\n",
            "back\n",
            "backed\n",
            "backing\n",
            "backs\n",
            "be\n",
            "became\n",
            "because\n",
            "become\n",
            "becomes\n",
            "been\n",
            "before\n",
            "began\n",
            "behind\n",
            "being\n",
            "beings\n",
            "best\n",
            "better\n",
            "between\n",
            "big\n",
            "both\n",
            "but\n",
            "by\n",
            "c\n",
            "came\n",
            "can\n",
            "cannot\n",
            "case\n",
            "cases\n",
            "certain\n",
            "certainly\n",
            "clear\n",
            "clearly\n",
            "come\n",
            "could\n",
            "d\n",
            "did\n",
            "differ\n",
            "different\n",
            "differently\n",
            "do\n",
            "does\n",
            "done\n",
            "down\n",
            "down\n",
            "downed\n",
            "downing\n",
            "downs\n",
            "during\n",
            "e\n",
            "each\n",
            "early\n",
            "either\n",
            "end\n",
            "ended\n",
            "ending\n",
            "ends\n",
            "enough\n",
            "even\n",
            "evenly\n",
            "ever\n",
            "every\n",
            "everybody\n",
            "everyone\n",
            "everything\n",
            "everywhere\n",
            "f\n",
            "face\n",
            "faces\n",
            "fact\n",
            "facts\n",
            "far\n",
            "felt\n",
            "few\n",
            "find\n",
            "finds\n",
            "first\n",
            "for\n",
            "four\n",
            "from\n",
            "full\n",
            "fully\n",
            "further\n",
            "furthered\n",
            "furthering\n",
            "furthers\n",
            "g\n",
            "gave\n",
            "general\n",
            "generally\n",
            "get\n",
            "gets\n",
            "give\n",
            "given\n",
            "gives\n",
            "go\n",
            "going\n",
            "good\n",
            "goods\n",
            "got\n",
            "great\n",
            "greater\n",
            "greatest\n",
            "group\n",
            "grouped\n",
            "grouping\n",
            "groups\n",
            "h\n",
            "had\n",
            "has\n",
            "have\n",
            "having\n",
            "he\n",
            "her\n",
            "here\n",
            "herself\n",
            "high\n",
            "high\n",
            "high\n",
            "higher\n",
            "highest\n",
            "him\n",
            "himself\n",
            "his\n",
            "how\n",
            "however\n",
            "i\n",
            "if\n",
            "important\n",
            "in\n",
            "interest\n",
            "interested\n",
            "interesting\n",
            "interests\n",
            "into\n",
            "is\n",
            "it\n",
            "its\n",
            "itself\n",
            "j\n",
            "just\n",
            "k\n",
            "keep\n",
            "keeps\n",
            "kind\n",
            "knew\n",
            "know\n",
            "known\n",
            "knows\n",
            "l\n",
            "large\n",
            "largely\n",
            "last\n",
            "later\n",
            "latest\n",
            "least\n",
            "less\n",
            "let\n",
            "lets\n",
            "like\n",
            "likely\n",
            "long\n",
            "longer\n",
            "longest\n",
            "m\n",
            "made\n",
            "make\n",
            "making\n",
            "man\n",
            "many\n",
            "may\n",
            "me\n",
            "member\n",
            "members\n",
            "men\n",
            "might\n",
            "more\n",
            "most\n",
            "mostly\n",
            "mr\n",
            "mrs\n",
            "much\n",
            "must\n",
            "my\n",
            "myself\n",
            "n\n",
            "necessary\n",
            "need\n",
            "needed\n",
            "needing\n",
            "needs\n",
            "never\n",
            "new\n",
            "new\n",
            "newer\n",
            "newest\n",
            "next\n",
            "no\n",
            "nobody\n",
            "non\n",
            "noone\n",
            "not\n",
            "nothing\n",
            "now\n",
            "nowhere\n",
            "number\n",
            "numbers\n",
            "o\n",
            "of\n",
            "off\n",
            "often\n",
            "old\n",
            "older\n",
            "oldest\n",
            "on\n",
            "once\n",
            "one\n",
            "only\n",
            "open\n",
            "opened\n",
            "opening\n",
            "opens\n",
            "or\n",
            "order\n",
            "ordered\n",
            "ordering\n",
            "orders\n",
            "other\n",
            "others\n",
            "our\n",
            "out\n",
            "over\n",
            "p\n",
            "part\n",
            "parted\n",
            "parting\n",
            "parts\n",
            "per\n",
            "perhaps\n",
            "place\n",
            "places\n",
            "point\n",
            "pointed\n",
            "pointing\n",
            "points\n",
            "possible\n",
            "present\n",
            "presented\n",
            "presenting\n",
            "presents\n",
            "problem\n",
            "problems\n",
            "put\n",
            "puts\n",
            "q\n",
            "quite\n",
            "r\n",
            "rather\n",
            "really\n",
            "right\n",
            "right\n",
            "room\n",
            "rooms\n",
            "s\n",
            "said\n",
            "same\n",
            "saw\n",
            "say\n",
            "says\n",
            "second\n",
            "seconds\n",
            "see\n",
            "seem\n",
            "seemed\n",
            "seeming\n",
            "seems\n",
            "sees\n",
            "several\n",
            "shall\n",
            "she\n",
            "should\n",
            "show\n",
            "showed\n",
            "showing\n",
            "shows\n",
            "side\n",
            "sides\n",
            "since\n",
            "small\n",
            "smaller\n",
            "smallest\n",
            "so\n",
            "some\n",
            "somebody\n",
            "someone\n",
            "something\n",
            "somewhere\n",
            "state\n",
            "states\n",
            "still\n",
            "still\n",
            "such\n",
            "sure\n",
            "t\n",
            "take\n",
            "taken\n",
            "than\n",
            "that\n",
            "the\n",
            "their\n",
            "them\n",
            "then\n",
            "there\n",
            "therefore\n",
            "these\n",
            "they\n",
            "thing\n",
            "things\n",
            "think\n",
            "thinks\n",
            "this\n",
            "those\n",
            "though\n",
            "thought\n",
            "thoughts\n",
            "three\n",
            "through\n",
            "thus\n",
            "to\n",
            "today\n",
            "together\n",
            "too\n",
            "took\n",
            "toward\n",
            "turn\n",
            "turned\n",
            "turning\n",
            "turns\n",
            "two\n",
            "u\n",
            "under\n",
            "until\n",
            "up\n",
            "upon\n",
            "us\n",
            "use\n",
            "used\n",
            "uses\n",
            "v\n",
            "very\n",
            "w\n",
            "want\n",
            "wanted\n",
            "wanting\n",
            "wants\n",
            "was\n",
            "way\n",
            "ways\n",
            "we\n",
            "well\n",
            "wells\n",
            "went\n",
            "were\n",
            "what\n",
            "when\n",
            "where\n",
            "whether\n",
            "which\n",
            "while\n",
            "who\n",
            "whole\n",
            "whose\n",
            "why\n",
            "will\n",
            "with\n",
            "within\n",
            "without\n",
            "work\n",
            "worked\n",
            "working\n",
            "works\n",
            "would\n",
            "x\n",
            "y\n",
            "year\n",
            "years\n",
            "yet\n",
            "you\n",
            "young\n",
            "younger\n",
            "youngest\n",
            "your\n",
            "yours\n",
            "z\n"
          ]
        }
      ]
    },
    {
      "cell_type": "code",
      "source": [
        "def get_stop_words():\n",
        "    result = set ()\n",
        "    for line in open('stopwords_en.txt', 'r').readlines():\n",
        "        result.add(line.strip())\n",
        "    return result"
      ],
      "metadata": {
        "id": "Wjdg9wtH1ZUo"
      },
      "execution_count": null,
      "outputs": []
    },
    {
      "cell_type": "code",
      "source": [
        "from spacy.lang.de.stop_words import STOP_WORDS\n",
        "clf_5 = Pipeline([\n",
        "    ('vect', TfidfVectorizer(\n",
        "        stop_words = list(get_stop_words()),\n",
        "        token_pattern= r'\\b[a-z0-9_\\-\\.]+[a-z][a-z0->>> 9_/-/.]+\\b',\n",
        "    )),\n",
        "    ('clf', MultinomialNB()),\n",
        "])"
      ],
      "metadata": {
        "id": "xHO00dcf26Oy"
      },
      "execution_count": null,
      "outputs": []
    },
    {
      "cell_type": "code",
      "source": [
        "print(eval_cross_val(clf_5, news.data, news.target, 5))"
      ],
      "metadata": {
        "colab": {
          "base_uri": "https://localhost:8080/"
        },
        "id": "dXzrp5nF-Cin",
        "outputId": "e45e3fe8-8ab7-4c4d-a93b-34218f747b86"
      },
      "execution_count": null,
      "outputs": [
        {
          "output_type": "stream",
          "name": "stdout",
          "text": [
            "[0.80265252 0.81002919 0.81215176 0.8209074  0.81188644]\n",
            "Mean scores: 0.812 ( +/-  0.003)\n"
          ]
        }
      ]
    },
    {
      "cell_type": "code",
      "source": [
        "clf_6 = Pipeline([\n",
        "    ('vect', TfidfVectorizer(\n",
        "        stop_words = list(get_stop_words()),\n",
        "        token_pattern= r'\\b[a-z0-9_\\-\\.]+[a-z][a-z0->>> 9_/-/.]+\\b',\n",
        "    )),\n",
        "    ('clf', MultinomialNB(alpha=0.01)),\n",
        "])"
      ],
      "metadata": {
        "id": "FExRiqBT-J2J"
      },
      "execution_count": null,
      "outputs": []
    },
    {
      "cell_type": "code",
      "source": [
        "\n",
        "print(eval_cross_val(clf_6, news.data, news.target, 5))"
      ],
      "metadata": {
        "colab": {
          "base_uri": "https://localhost:8080/"
        },
        "id": "z0RRcl9aGQz_",
        "outputId": "789054b3-f903-449b-f827-17bd4ea46493"
      },
      "execution_count": null,
      "outputs": [
        {
          "output_type": "stream",
          "name": "stdout",
          "text": [
            "[0.84429708 0.85699124 0.85221544 0.86495092 0.85566463]\n",
            "Mean scores: 0.855 ( +/-  0.003)\n"
          ]
        }
      ]
    },
    {
      "cell_type": "code",
      "source": [
        "from sklearn import metrics\n",
        "\n",
        "def train_and_eval(clf, x_train, x_test, y_train, y_test):\n",
        "    clf.fit(x_train, y_train)\n",
        "\n",
        "    print(\"Accuracy on training set:\")\n",
        "    print(clf.score(x_train, y_train))\n",
        "    print(\"Accuracy on testting set:\")\n",
        "    print(clf.score(x_test, y_test))\n",
        "\n",
        "    y_pred = clf.predict(x_test)\n",
        "\n",
        "    print(\"Classification Report\")\n",
        "    print(metrics.Classification_report(y_test, y_pred))\n",
        "    print(\"confusion Matrix\")\n",
        "    print(metrics.confusion_matrix(y_test, y_pred))"
      ],
      "metadata": {
        "id": "YZCdSBEgGT-D"
      },
      "execution_count": null,
      "outputs": []
    },
    {
      "cell_type": "code",
      "source": [
        "train_and_eval(clf_6, x_train, x_test, y_train, y_test)"
      ],
      "metadata": {
        "id": "RTeh5l3zHrm5"
      },
      "execution_count": null,
      "outputs": []
    },
    {
      "cell_type": "code",
      "source": [],
      "metadata": {
        "id": "By-OnHGdH2bL"
      },
      "execution_count": null,
      "outputs": []
    }
  ]
}